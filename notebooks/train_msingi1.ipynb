{
 "cells": [
  {
   "cell_type": "markdown",
   "metadata": {},
   "source": [
    "# Training Msingi1: A Small Swahili Language Model\n",
    "\n",
    "This notebook will guide you through training Msingi1 on Google Colab's GPU/TPU."
   ]
  },
  {
   "cell_type": "code",
   "execution_count": null,
   "metadata": {},
   "source": [
    "# Clone the repository\n",
    "!git clone https://github.com/YOUR_USERNAME/msingi1.git\n",
    "%cd msingi1\n",
    "\n",
    "# Install dependencies\n",
    "!pip install -r requirements.txt"
   ]
  },
  {
   "cell_type": "code",
   "execution_count": null,
   "metadata": {},
   "source": [
    "# Download and prepare Swahili dataset\n",
    "from datasets import load_dataset\n",
    "\n",
    "# You can use various sources for Swahili text data:\n",
    "# 1. News articles\n",
    "# 2. Wikipedia dumps\n",
    "# 3. Common Crawl\n",
    "# 4. Books and literature\n",
    "\n",
    "# Example using HuggingFace datasets\n",
    "dataset = load_dataset(\"your_dataset_here\")\n",
    "texts = [item['text'] for item in dataset['train']]"
   ]
  },
  {
   "cell_type": "code",
   "execution_count": null,
   "metadata": {},
   "source": [
    "# Train tokenizer\n",
    "from tokenizers import ByteLevelBPETokenizer\n",
    "\n",
    "tokenizer = ByteLevelBPETokenizer()\n",
    "tokenizer.train_from_iterator(\n",
    "    texts,\n",
    "    vocab_size=50000,\n",
    "    min_frequency=2,\n",
    "    special_tokens=[\"<s>\", \"</s>\", \"<unk>\", \"<pad>\"]\n",
    ")\n",
    "tokenizer.save_model(\"tokenizer\")"
   ]
  },
  {
   "cell_type": "code",
   "execution_count": null,
   "metadata": {},
   "source": [
    "# Train the model\n",
    "from src.train import main\n",
    "\n",
    "main()"
   ]
  }
 ],
 "metadata": {
  "accelerator": "GPU",
  "colab": {
   "name": "train_msingi1.ipynb"
  },
  "kernelspec": {
   "display_name": "Python 3",
   "name": "python3"
  }
 },
 "nbformat": 4,
 "nbformat_minor": 0
}
