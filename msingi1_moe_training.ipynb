{
 "cells": [
  {
   "cell_type": "markdown",
   "id": "d0602d03",
   "metadata": {},
   "source": [
    "# Msingi1 MoE Training on Google Colab\n",
    "\n",
    "This notebook:\n",
    "1. Sets up GPU and dependencies\n",
    "2. Loads the pre-trained tokenizer\n",
    "3. Trains the Msingi1 Swahili language model with Mixture of Experts\n",
    "4. Saves checkpoints and logs metrics with Weights & Biases"
   ]
  },
  {
   "cell_type": "code",
   "execution_count": null,
   "id": "2fbfcd97",
   "metadata": {},
   "outputs": [],
   "source": [
    "!nvidia-smi"
   ]
  },
  {
   "cell_type": "markdown",
   "id": "609dac3c",
   "metadata": {},
   "source": [
    "## Setup"
   ]
  },
  {
   "cell_type": "code",
   "execution_count": null,
   "id": "8c75a6de",
   "metadata": {},
   "outputs": [],
   "source": [
    "!pip install -q torch tokenizers wandb fastmoe\n",
    "!git clone https://github.com/Msingi-AI/msingi1.git\n",
    "%cd msingi1\n",
    "!pip install -r requirements.txt"
   ]
  },
  {
   "cell_type": "markdown",
   "id": "37fe6509",
   "metadata": {},
   "source": [
    "## Imports and Setup"
   ]
  },
  {
   "cell_type": "code",
   "execution_count": null,
   "id": "d4b03f88",
   "metadata": {},
   "outputs": [],
   "source": [
    "import torch\n",
    "import os\n",
    "import wandb\n",
    "from src.model import Msingi1Model\n",
    "from src.train import train_model\n",
    "from src.data_processor import SwahiliDataset\n",
    "from google.colab import drive"
   ]
  },
  {
   "cell_type": "markdown",
   "id": "3a8d9e22",
   "metadata": {},
   "source": [
    "## Model Configuration"
   ]
  },
  {
   "cell_type": "code",
   "execution_count": null,
   "id": "03b83a6d",
   "metadata": {},
   "outputs": [],
   "source": [
    "# Mount Google Drive\n",
    "drive.mount('/content/drive')\n",
    "# Initialize wandb\n",
    "wandb.init(project=\"msingi1-moe\", name=\"moe_training_run\")\n",
    "# Model configuration\n",
    "config = {\n",
    "    'vocab_size': 32000,\n",
    "    'hidden_size': 768,\n",
    "    'num_experts': 8,\n",
    "    'expert_capacity': 32,\n",
    "    'moe_layers': [2, 4],\n",
    "    'intermediate_size': 3072,\n",
    "    'num_attention_heads': 12,\n",
    "    'batch_size': 32,\n",
    "    'num_epochs': 100,\n",
    "    'learning_rate': 3e-4,\n",
    "    'save_every': 5,\n",
    "    'checkpoint_dir': '/content/drive/MyDrive/msingi1_checkpoints'\n",
    "}"
   ]
  },
  {
   "cell_type": "markdown",
   "id": "9c6efb25",
   "metadata": {},
   "source": [
    "## Initialize Model"
   ]
  },
  {
   "cell_type": "code",
   "execution_count": null,
   "id": "c27028af",
   "metadata": {},
   "outputs": [],
   "source": [
    "# Create checkpoint directory\n",
    "os.makedirs(config['checkpoint_dir'], exist_ok=True)\n",
    "# Initialize model\n",
    "model = Msingi1Model(config)\n",
    "model = model.cuda()  # Move to GPU"
   ]
  },
  {
   "cell_type": "markdown",
   "id": "87a96468",
   "metadata": {},
   "source": [
    "## Training"
   ]
  },
  {
   "cell_type": "code",
   "execution_count": null,
   "id": "d8d2489f",
   "metadata": {},
   "outputs": [],
   "source": [
    "# Load tokenizer\n",
    "tokenizer_path = '/content/drive/MyDrive/msingi1_tokenizer/tokenizer.json'\n",
    "tokenizer = tokenizers.Tokenizer.from_file(tokenizer_path)\n",
    "# Prepare dataset\n",
    "dataset = SwahiliDataset('data/Swahili data/train.txt', tokenizer)\n",
    "dataloader = torch.utils.data.DataLoader(\n",
    "    dataset, \n",
    "    batch_size=config['batch_size'],\n",
    "    shuffle=True\n",
    ")\n",
    "# Training loop\n",
    "train_model(\n",
    "    model=model,\n",
    "    dataloader=dataloader,\n",
    "    config=config,\n",
    "    wandb=wandb\n",
    ")\n"
   ]
  }
 ],
 "metadata": {},
 "nbformat": 4,
 "nbformat_minor": 5
}
