{
 "cells": [
  {
   "cell_type": "markdown",
   "metadata": {},
   "source": [
    "# Msingi1: Swahili Language Model Training\n",
    "\n",
    "This notebook trains the Msingi1 language model using Mixture of Experts architecture."
   ]
  },
  {
   "cell_type": "markdown",
   "metadata": {},
   "source": [
    "## 1. Setup Environment\n",
    "\n",
    "First, we'll set up our environment and install dependencies."
   ]
  },
  {
   "cell_type": "code",
   "execution_count": null,
   "metadata": {},
   "source": [
    "# Mount Google Drive for persistent storage\n",
    "from google.colab import drive\n",
    "drive.mount('/content/drive')"
   ]
  },
  {
   "cell_type": "code",
   "execution_count": null,
   "metadata": {},
   "source": [
    "# Clone repository and install dependencies\n",
    "!git clone https://github.com/your-username/msingi1.git\n",
    "%cd msingi1\n",
    "\n",
    "# Install dependencies and setup environment\n",
    "!python setup_colab.py"
   ]
  },
  {
   "cell_type": "markdown",
   "metadata": {},
   "source": [
    "## 2. Load Dataset and Tokenizer"
   ]
  },
  {
   "cell_type": "code",
   "execution_count": null,
   "metadata": {},
   "source": [
    "import torch\n",
    "from tokenizers import ByteLevelBPETokenizer\n",
    "from src.model import Msingi1, MsingiConfig\n",
    "from src.data_processor import SwahiliDataset, extract_dataset\n",
    "from torch.utils.data import DataLoader\n",
    "import wandb\n",
    "from tqdm.auto import tqdm\n",
    "\n",
    "# Load tokenizer\n",
    "tokenizer = ByteLevelBPETokenizer(\n",
    "    'tokenizer/vocab.json',\n",
    "    'tokenizer/merges.txt'\n",
    ")\n",
    "\n",
    "# Extract and prepare dataset\n",
    "texts = extract_dataset('data/swahili_text.zip')\n",
    "dataset = SwahiliDataset(texts, tokenizer)\n",
    "\n",
    "# Create data loader\n",
    "train_loader = DataLoader(\n",
    "    dataset,\n",
    "    batch_size=8,\n",
    "    shuffle=True,\n",
    "    num_workers=2\n",
    ")"
   ]
  },
  {
   "cell_type": "markdown",
   "metadata": {},
   "source": [
    "## 3. Initialize Model and Training"
   ]
  },
  {
   "cell_type": "code",
   "execution_count": null,
   "metadata": {},
   "source": [
    "# Initialize model\n",
    "config = MsingiConfig()\n",
    "model = Msingi1(config)\n",
    "\n",
    "# Move model to GPU if available\n",
    "device = torch.device('cuda' if torch.cuda.is_available() else 'cpu')\n",
    "model = model.to(device)\n",
    "\n",
    "# Initialize optimizer and scheduler\n",
    "optimizer = torch.optim.AdamW(model.parameters(), lr=5e-5)\n",
    "scheduler = torch.optim.lr_scheduler.CosineAnnealingLR(optimizer, T_max=50)\n",
    "\n",
    "# Initialize wandb for tracking\n",
    "wandb.init(project='msingi1', name='moe_training')"
   ]
  },
  {
   "cell_type": "markdown",
   "metadata": {},
   "source": [
    "## 4. Training Loop"
   ]
  },
  {
   "cell_type": "code",
   "execution_count": null,
   "metadata": {},
   "source": [
    "num_epochs = 50\n",
    "save_path = '/content/drive/MyDrive/msingi1/checkpoints'\n",
    "\n",
    "for epoch in range(num_epochs):\n",
    "    model.train()\n",
    "    total_loss = 0\n",
    "    progress_bar = tqdm(train_loader, desc=f'Epoch {epoch+1}/{num_epochs}')\n",
    "    \n",
    "    for batch in progress_bar:\n",
    "        # Move batch to device\n",
    "        input_ids = batch['input_ids'].to(device)\n",
    "        labels = batch['labels'].to(device)\n",
    "        \n",
    "        # Forward pass\n",
    "        outputs = model(input_ids)\n",
    "        loss = torch.nn.functional.cross_entropy(outputs.view(-1, config.vocab_size), labels.view(-1))\n",
    "        \n",
    "        # Backward pass\n",
    "        optimizer.zero_grad()\n",
    "        loss.backward()\n",
    "        optimizer.step()\n",
    "        \n",
    "        # Update progress\n",
    "        total_loss += loss.item()\n",
    "        progress_bar.set_postfix({'loss': loss.item()})\n",
    "        wandb.log({'loss': loss.item()})\n",
    "    \n",
    "    # Update scheduler\n",
    "    scheduler.step()\n",
    "    \n",
    "    # Save checkpoint\n",
    "    if (epoch + 1) % 5 == 0:\n",
    "        checkpoint = {\n",
    "            'epoch': epoch,\n",
    "            'model_state_dict': model.state_dict(),\n",
    "            'optimizer_state_dict': optimizer.state_dict(),\n",
    "            'scheduler_state_dict': scheduler.state_dict(),\n",
    "            'loss': total_loss / len(train_loader)\n",
    "        }\n",
    "        torch.save(checkpoint, f'{save_path}/checkpoint_epoch_{epoch+1}.pt')\n",
    "    \n",
    "    # Log epoch metrics\n",
    "    epoch_loss = total_loss / len(train_loader)\n",
    "    print(f'Epoch {epoch+1} - Average Loss: {epoch_loss:.4f}')\n",
    "    wandb.log({'epoch': epoch, 'epoch_loss': epoch_loss})"
   ]
  },
  {
   "cell_type": "markdown",
   "metadata": {},
   "source": [
    "## 5. Test Text Generation"
   ]
  },
  {
   "cell_type": "code",
   "execution_count": null,
   "metadata": {},
   "source": [
    "model.eval()\n",
    "\n",
    "def generate_text(prompt, max_length=100):\n",
    "    # Encode prompt\n",
    "    encoded = tokenizer.encode(prompt)\n",
    "    input_ids = torch.tensor(encoded.ids).unsqueeze(0).to(device)\n",
    "    \n",
    "    # Generate\n",
    "    with torch.no_grad():\n",
    "        output_ids = model.generate(\n",
    "            input_ids=input_ids,\n",
    "            max_length=max_length,\n",
    "            num_return_sequences=1,\n",
    "            pad_token_id=tokenizer.token_to_id('<pad>')\n",
    "        )\n",
    "    \n",
    "    # Decode and return\n",
    "    return tokenizer.decode(output_ids[0].tolist())\n",
    "\n",
    "# Test generation\n",
    "test_prompts = [\n",
    "    \"Habari ya leo?\",\n",
    "    \"Tanzania ni nchi\",\n",
    "    \"Kiswahili ni lugha\"\n",
    "]\n",
    "\n",
    "for prompt in test_prompts:\n",
    "    generated = generate_text(prompt)\n",
    "    print(f'\\nPrompt: {prompt}')\n",
    "    print(f'Generated: {generated}')"
   ]
  }
 ],
 "metadata": {
  "accelerator": "GPU",
  "colab": {
   "name": "Msingi1 Training",
   "provenance": []
  },
  "kernelspec": {
   "display_name": "Python 3",
   "language": "python",
   "name": "python3"
  },
  "language_info": {
   "codemirror_mode": {
    "name": "ipython",
    "version": 3
   },
   "file_extension": ".py",
   "mimetype": "text/x-python",
   "name": "python",
   "nbconvert_exporter": "python",
   "pygments_lexer": "ipython3",
   "version": "3.8.0"
  }
 },
 "nbformat": 4,
 "nbformat_minor": 4
}
