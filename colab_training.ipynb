{
 "cells": [
  {
   "cell_type": "markdown",
   "metadata": {},
   "source": [
    "# Msingi1 Training on Google Colab\n",
    "\n",
    "This notebook:\n",
    "1. Trains a custom tokenizer\n",
    "2. Trains the Msingi1 Swahili language model for 100 epochs\n",
    "3. Saves checkpoints to prevent loss of progress"
   ]
  },
  {
   "cell_type": "code",
   "execution_count": null,
   "metadata": {},
   "source": [
    "# Check GPU availability\n",
    "!nvidia-smi"
   ]
  },
  {
   "cell_type": "code",
   "execution_count": null,
   "metadata": {},
   "source": [
    "# Mount Google Drive\n",
    "from google.colab import drive\n",
    "drive.mount('/content/drive')"
   ]
  },
  {
   "cell_type": "code",
   "execution_count": null,
   "metadata": {},
   "source": [
    "# Clone the repository\n",
    "!git clone https://github.com/Msingi-AI/msingi1.git\n",
    "%cd msingi1"
   ]
  },
  {
   "cell_type": "code",
   "execution_count": null,
   "metadata": {},
   "source": [
    "# Install requirements\n",
    "!pip install -r requirements.txt\n",
    "!pip install tokenizers"
   ]
  },
  {
   "cell_type": "markdown",
   "metadata": {},
   "source": [
    "## Train Tokenizer"
   ]
  },
  {
   "cell_type": "code",
   "execution_count": null,
   "metadata": {},
   "source": [
    "from src.train_tokenizer import train_tokenizer\n",
    "\n",
    "# Train tokenizer on the full dataset\n",
    "tokenizer = train_tokenizer('data/Swahili data/train.txt')\n",
    "\n",
    "# Save tokenizer to Drive to prevent loss\n",
    "tokenizer_path = '/content/drive/MyDrive/msingi1_tokenizer'\n",
    "os.makedirs(tokenizer_path, exist_ok=True)\n",
    "tokenizer.save(f'{tokenizer_path}/tokenizer.json')\n",
    "print('Tokenizer trained and saved!')"
   ]
  },
  {
   "cell_type": "markdown",
   "metadata": {},
   "source": [
    "## Train Model"
   ]
  },
  {
   "cell_type": "code",
   "execution_count": null,
   "metadata": {},
   "source": [
    "import torch\n",
    "import os\n",
    "from src.model import Msingi1Model\n",
    "from src.train import train_model\n",
    "from src.data_processor import SwahiliDataset\n",
    "\n",
    "# Training configuration\n",
    "config = {\n",
    "    'batch_size': 32,\n",
    "    'num_epochs': 100,  # Extended to 100 epochs\n",
    "    'learning_rate': 3e-4,\n",
    "    'save_every': 5,    # Save checkpoint every 5 epochs\n",
    "    'checkpoint_dir': '/content/drive/MyDrive/msingi1_checkpoints',\n",
    "    'tokenizer_path': '/content/drive/MyDrive/msingi1_tokenizer/tokenizer.json'\n",
    "}\n",
    "\n",
    "# Create checkpoint directory\n",
    "os.makedirs(config['checkpoint_dir'], exist_ok=True)\n",
    "\n",
    "# Load tokenizer and initialize dataset\n",
    "dataset = SwahiliDataset(\n",
    "    'data/Swahili data/train.txt',\n",
    "    tokenizer_path=config['tokenizer_path']\n",
    ")\n",
    "\n",
    "# Initialize model\n",
    "model = Msingi1Model().to('cuda')\n",
    "\n",
    "# Function to load latest checkpoint if exists\n",
    "def load_latest_checkpoint():\n",
    "    checkpoints = sorted([\n",
    "        f for f in os.listdir(config['checkpoint_dir'])\n",
    "        if f.endswith('.pt')\n",
    "    ])\n",
    "    if checkpoints:\n",
    "        latest = os.path.join(config['checkpoint_dir'], checkpoints[-1])\n",
    "        checkpoint = torch.load(latest)\n",
    "        model.load_state_dict(checkpoint['model_state_dict'])\n",
    "        start_epoch = checkpoint['epoch'] + 1\n",
    "        print(f'Resuming from epoch {start_epoch}')\n",
    "        return start_epoch\n",
    "    return 0\n",
    "\n",
    "# Train with checkpointing\n",
    "def train_with_checkpoints():\n",
    "    start_epoch = load_latest_checkpoint()\n",
    "    \n",
    "    for epoch in range(start_epoch, config['num_epochs']):\n",
    "        loss = train_model(model, dataset, config)\n",
    "        print(f'Epoch {epoch+1}/100, Loss: {loss}')\n",
    "        \n",
    "        if (epoch + 1) % config['save_every'] == 0:\n",
    "            checkpoint_path = os.path.join(\n",
    "                config['checkpoint_dir'],\n",
    "                f'msingi1_epoch_{epoch+1}.pt'\n",
    "            )\n",
    "            torch.save({\n",
    "                'epoch': epoch,\n",
    "                'model_state_dict': model.state_dict(),\n",
    "                'loss': loss,\n",
    "            }, checkpoint_path)\n",
    "            print(f'Saved checkpoint to {checkpoint_path}')\n",
    "\n",
    "# Start training\n",
    "train_with_checkpoints()"
   ]
  },
  {
   "cell_type": "code",
   "execution_count": null,
   "metadata": {},
   "source": [
    "# Test the model\n",
    "model.eval()\n",
    "with torch.no_grad():\n",
    "    sample_text = model.generate(\"Habari ya leo\", max_length=100)\n",
    "    print(sample_text)"
   ]
  }
 ],
 "metadata": {
  "accelerator": "GPU",
  "colab": {
   "gpuType": "T4"
  },
  "kernelspec": {
   "display_name": "Python 3",
   "language": "python",
   "name": "python3"
  }
 }
}
